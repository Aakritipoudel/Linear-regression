{
  "nbformat": 4,
  "nbformat_minor": 0,
  "metadata": {
    "colab": {
      "name": "Linear regression.ipynb",
      "provenance": []
    },
    "kernelspec": {
      "name": "python3",
      "display_name": "Python 3"
    },
    "language_info": {
      "name": "python"
    }
  },
  "cells": [
    {
      "cell_type": "code",
      "metadata": {
        "id": "HGxFSJsBLBtY"
      },
      "source": [
        "import pandas as pd\n",
        "import numpy as np\n",
        "\n",
        "import warnings\n",
        "warnings.filterwarnings('ignore')\n",
        "\n",
        "import seaborn as sns\n",
        "import matplotlib.pyplot as plt\n",
        "%matplotlib inline\n",
        "sns.set(style='white', color_codes=True)"
      ],
      "execution_count": 1,
      "outputs": []
    },
    {
      "cell_type": "code",
      "metadata": {
        "colab": {
          "base_uri": "https://localhost:8080/"
        },
        "id": "60DU1eWPLKQv",
        "outputId": "a8e452aa-a01c-43a8-98e1-bff138bda92a"
      },
      "source": [
        " from sklearn.linear_model import Ridge\n",
        "\n",
        "ridge = Ridge()\n",
        "ridge"
      ],
      "execution_count": 7,
      "outputs": [
        {
          "output_type": "execute_result",
          "data": {
            "text/plain": [
              "Ridge(alpha=1.0, copy_X=True, fit_intercept=True, max_iter=None,\n",
              "      normalize=False, random_state=None, solver='auto', tol=0.001)"
            ]
          },
          "metadata": {},
          "execution_count": 7
        }
      ]
    },
    {
      "cell_type": "code",
      "metadata": {
        "colab": {
          "base_uri": "https://localhost:8080/"
        },
        "id": "FI45xuMQLvmr",
        "outputId": "105452f7-9cf6-4af0-b620-277c242253c4"
      },
      "source": [
        "from sklearn.linear_model import Lasso \n",
        "lasso = Lasso()\n",
        "lasso"
      ],
      "execution_count": 9,
      "outputs": [
        {
          "output_type": "execute_result",
          "data": {
            "text/plain": [
              "Lasso(alpha=1.0, copy_X=True, fit_intercept=True, max_iter=1000,\n",
              "      normalize=False, positive=False, precompute=False, random_state=None,\n",
              "      selection='cyclic', tol=0.0001, warm_start=False)"
            ]
          },
          "metadata": {},
          "execution_count": 9
        }
      ]
    },
    {
      "cell_type": "markdown",
      "metadata": {
        "id": "uld9IyriRIyR"
      },
      "source": [
        "#Constructing correlation Matrix\n",
        "data_corr = df_train.corr()\n",
        "data_corr\n",
        "Out[52]:\n",
        "Id\tMSSubClass\tLotFrontage\tLotArea\tOverallQual\tOverallCond\tYearBuilt\tYearRemodAdd\tMasVnrArea\tBsmtFinSF1\t...\tWoodDeckSF\tOpenPorchSF\tEnclosedPorch\t3SsnPorch\tScreenPorch\tPoolArea\tMiscVal\tMoSold\tYrSold\tSalePrice\n",
        "Id\t1.000000\t0.011156\t-0.009828\t-0.033226\t-0.028365\t0.012609\t-0.012713\t-0.021998\t-0.050212\t-0.005024\t...\t-0.029643\t-0.000477\t0.002889\t-0.046635\t0.001330\t0.057044\t-0.006242\t0.021172\t0.000712\t-0.021917\n",
        "MSSubClass\t0.011156\t1.000000\t-0.356828\t-0.139781\t0.032628\t-0.059316\t0.027850\t0.040581\t0.022905\t-0.069836\t...\t-0.012579\t-0.006100\t-0.012037\t-0.043825\t-0.026030\t0.008283\t-0.007683\t-0.013585\t-0.021407\t-0.084284\n",
        "LotFrontage\t-0.009828\t-0.356828\t1.000000\t0.305194\t0.234641\t-0.053148\t0.116955\t0.083176\t0.179112\t0.214800\t...\t0.076000\t0.137147\t0.010143\t0.062061\t0.037665\t0.180839\t0.000159\t0.010366\t0.006494\t0.334820\n",
        "LotArea\t-0.033226\t-0.139781\t0.305194\t1.000000\t0.105806\t-0.005636\t0.014228\t0.013788\t0.103952\t0.214103\t...\t0.171698\t0.084774\t-0.018340\t0.020423\t0.043160\t0.077672\t0.038068\t0.001205\t-0.014261\t0.263843\n",
        "OverallQual\t-0.028365\t0.032628\t0.234641\t0.105806\t1.000000\t-0.091932\t0.572323\t0.550684\t0.410200\t0.239666\t...\t0.238923\t0.308819\t-0.113937\t0.030371\t0.064886\t0.065166\t-0.031406\t0.070815\t-0.027347\t0.790982\n",
        "OverallCond\t0.012609\t-0.059316\t-0.053148\t-0.005636\t-0.091932\t1.000000\t-0.375983\t0.073741\t-0.127760\t-0.046231\t...\t-0.003334\t-0.032589\t0.070356\t0.025504\t0.054811\t-0.001985\t0.068777\t-0.003511\t0.043950\t-0.077856\n",
        "YearBuilt\t-0.012713\t0.027850\t0.116955\t0.014228\t0.572323\t-0.375983\t1.000000\t0.592855\t0.314704\t0.249503\t...\t0.224880\t0.188686\t-0.387268\t0.031355\t-0.050364\t0.004950\t-0.034383\t0.012398\t-0.013618\t0.522897\n",
        "YearRemodAdd\t-0.021998\t0.040581\t0.083176\t0.013788\t0.550684\t0.073741\t0.592855\t1.000000\t0.179151\t0.128451\t...\t0.205726\t0.226298\t-0.193919\t0.045286\t-0.038740\t0.005829\t-0.010286\t0.021490\t0.035743\t0.507101\n",
        "MasVnrArea\t-0.050212\t0.022905\t0.179112\t0.103952\t0.410200\t-0.127760\t0.314704\t0.179151\t1.000000\t0.263552\t...\t0.159361\t0.124932\t-0.109851\t0.018800\t0.061465\t0.011726\t-0.029811\t-0.005951\t-0.008186\t0.475210\n",
        "BsmtFinSF1\t-0.005024\t-0.069836\t0.214800\t0.214103\t0.239666\t-0.046231\t0.249503\t0.128451\t0.263552\t1.000000\t...\t0.204306\t0.111761\t-0.102303\t0.026451\t0.062021\t0.140491\t0.003571\t-0.015727\t0.014359\t0.386420\n",
        "BsmtFinSF2\t-0.005968\t-0.065649\t0.042720\t0.111170\t-0.059119\t0.040229\t-0.049107\t-0.067759\t-0.072289\t-0.050117\t...\t0.067898\t0.003093\t0.036543\t-0.029993\t0.088871\t0.041709\t0.004940\t-0.015211\t0.031706\t-0.011378\n",
        "BsmtUnfSF\t-0.007940\t-0.140759\t0.123537\t-0.002618\t0.308159\t-0.136841\t0.149040\t0.181133\t0.114181\t-0.495251\t...\t-0.005316\t0.129005\t-0.002538\t0.020764\t-0.012579\t-0.035092\t-0.023837\t0.034888\t-0.041258\t0.214479\n",
        "TotalBsmtSF\t-0.015415\t-0.238518\t0.363451\t0.260833\t0.537808\t-0.171098\t0.391452\t0.291066\t0.362423\t0.522396\t...\t0.232019\t0.247264\t-0.095478\t0.037384\t0.084489\t0.126053\t-0.018479\t0.013196\t-0.014969\t0.613581\n",
        "1stFlrSF\t0.010496\t-0.251758\t0.413931\t0.299475\t0.476224\t-0.144203\t0.281986\t0.240379\t0.342132\t0.445863\t...\t0.235459\t0.211671\t-0.065292\t0.056104\t0.088758\t0.131525\t-0.021096\t0.031372\t-0.013604\t0.605852\n",
        "2ndFlrSF\t0.005590\t0.307886\t0.072418\t0.050986\t0.295493\t0.028942\t0.010308\t0.140024\t0.174018\t-0.137079\t...\t0.092165\t0.208026\t0.061989\t-0.024358\t0.040606\t0.081487\t0.016197\t0.035164\t-0.028700\t0.319334\n",
        "LowQualFinSF\t-0.044230\t0.046474\t0.037290\t0.004779\t-0.030429\t0.025494\t-0.183784\t-0.062419\t-0.069063\t-0.064503\t...\t-0.025444\t0.018251\t0.061081\t-0.004296\t0.026799\t0.062157\t-0.003793\t-0.022174\t-0.028921\t-0.025606\n",
        "GrLivArea\t0.008273\t0.074853\t0.368132\t0.263116\t0.593007\t-0.079686\t0.199010\t0.287389\t0.389871\t0.208171\t...\t0.247433\t0.330224\t0.009113\t0.020643\t0.101510\t0.170205\t-0.002416\t0.050240\t-0.036526\t0.708624\n",
        "BsmtFullBath\t0.002289\t0.003491\t0.090677\t0.158155\t0.111098\t-0.054942\t0.187599\t0.119470\t0.085026\t0.649212\t...\t0.175315\t0.067341\t-0.049911\t-0.000106\t0.023148\t0.067616\t-0.023047\t-0.025361\t0.067049\t0.227122\n",
        "BsmtHalfBath\t-0.020155\t-0.002333\t-0.006816\t0.048046\t-0.040150\t0.117821\t-0.038162\t-0.012337\t0.026679\t0.067418\t...\t0.040161\t-0.025324\t-0.008555\t0.035114\t0.032121\t0.020025\t-0.007367\t0.032873\t-0.046524\t-0.016844\n",
        "FullBath\t0.005587\t0.131608\t0.180508\t0.126031\t0.550600\t-0.194149\t0.468271\t0.439046\t0.275694\t0.058543\t...\t0.187703\t0.259977\t-0.115093\t0.035353\t-0.008106\t0.049604\t-0.014290\t0.055872\t-0.019669\t0.560664\n",
        "HalfBath\t0.006784\t0.177354\t0.047525\t0.014259\t0.273458\t-0.060769\t0.242656\t0.183331\t0.200781\t0.004262\t...\t0.108080\t0.199740\t-0.095317\t-0.004972\t0.072426\t0.022381\t0.001290\t-0.009050\t-0.010269\t0.284108\n",
        "BedroomAbvGr\t0.037719\t-0.023438\t0.236901\t0.119690\t0.101676\t0.012980\t-0.070651\t-0.040581\t0.102424\t-0.107355\t...\t0.046854\t0.093810\t0.041570\t-0.024478\t0.044300\t0.070703\t0.007767\t0.046544\t-0.036014\t0.168213\n",
        "KitchenAbvGr\t0.002951\t0.281721\t-0.005167\t-0.017784\t-0.183882\t-0.087001\t-0.174800\t-0.149598\t-0.037380\t-0.081007\t...\t-0.090130\t-0.070091\t0.037312\t-0.024600\t-0.051613\t-0.014525\t0.062341\t0.026589\t0.031687\t-0.135907\n",
        "TotRmsAbvGrd\t0.027239\t0.040380\t0.320421\t0.190015\t0.427452\t-0.057583\t0.095589\t0.191740\t0.280024\t0.044316\t...\t0.165984\t0.234192\t0.004151\t-0.006683\t0.059383\t0.083757\t0.024763\t0.036907\t-0.034516\t0.533723\n",
        "Fireplaces\t-0.019772\t-0.045569\t0.233967\t0.271364\t0.396765\t-0.023820\t0.147716\t0.112581\t0.247897\t0.260011\t...\t0.200019\t0.169405\t-0.024822\t0.011257\t0.184530\t0.095074\t0.001409\t0.046357\t-0.024096\t0.466929\n",
        "GarageYrBlt\t0.000121\t0.079867\t0.064719\t-0.024534\t0.518996\t-0.306130\t0.781416\t0.618552\t0.249775\t0.150742\t...\t0.221018\t0.218632\t-0.286112\t0.023640\t-0.075010\t-0.014436\t-0.031872\t0.005244\t-0.001029\t0.471062\n",
        "GarageCars\t0.016570\t-0.040110\t0.269604\t0.154871\t0.600671\t-0.185758\t0.537850\t0.420622\t0.363756\t0.224054\t...\t0.226342\t0.213569\t-0.151434\t0.035765\t0.050494\t0.020934\t-0.043080\t0.040522\t-0.039117\t0.640409\n",
        "GarageArea\t0.017634\t-0.098672\t0.323566\t0.180403\t0.562022\t-0.151521\t0.478954\t0.371600\t0.372548\t0.296970\t...\t0.224666\t0.241435\t-0.121777\t0.035087\t0.051412\t0.061047\t-0.027400\t0.027974\t-0.027378\t0.623431\n",
        "WoodDeckSF\t-0.029643\t-0.012579\t0.076000\t0.171698\t0.238923\t-0.003334\t0.224880\t0.205726\t0.159361\t0.204306\t...\t1.000000\t0.058661\t-0.125989\t-0.032771\t-0.074181\t0.073378\t-0.009551\t0.021011\t0.022270\t0.324413\n",
        "OpenPorchSF\t-0.000477\t-0.006100\t0.137147\t0.084774\t"
      ]
    },
    {
      "cell_type": "markdown",
      "metadata": {
        "id": "30qw84H3RMIa"
      },
      "source": [
        ""
      ]
    },
    {
      "cell_type": "markdown",
      "metadata": {
        "id": "nJ4QuOx8RSPK"
      },
      "source": [
        "# Showing overview of the train dataset after imputing missing values\n",
        "df.head()\n",
        "Out[50]:\n",
        "Id\tMSSubClass\tLotFrontage\tLotArea\tOverallQual\tOverallCond\tYearBuilt\tYearRemodAdd\tMasVnrArea\tBsmtFinSF1\t...\tWoodDeckSF\tOpenPorchSF\tEnclosedPorch\t3SsnPorch\tScreenPorch\tPoolArea\tMiscVal\tMoSold\tYrSold\tSalePrice\n",
        "0\t1\t60\t65.0\t8450\t7\t5\t2003\t2003\t196.0\t706.0\t...\t0\t61\t0\t0\t0\t0\t0\t2\t2008\t208500.0\n",
        "1\t2\t20\t80.0\t9600\t6\t8\t1976\t1976\t0.0\t978.0\t...\t298\t0\t0\t0\t0\t0\t0\t5\t2007\t181500.0\n",
        "2\t3\t60\t68.0\t11250\t7\t5\t2001\t2002\t162.0\t486.0\t...\t0\t42\t0\t0\t0\t0\t0\t9\t2008\t223500.0\n",
        "3\t4\t70\t60.0\t9550\t7\t5\t1915\t1970\t0.0\t216.0\t...\t0\t35\t272\t0\t0\t0\t0\t2\t2006\t140000.0\n",
        "4\t5\t60\t84.0\t14260\t8\t5\t2000\t2000\t350.0\t655.0\t...\t192\t84\t0"
      ]
    },
    {
      "cell_type": "markdown",
      "metadata": {
        "id": "xHEHEZsPQ1ml"
      },
      "source": [
        ""
      ]
    },
    {
      "cell_type": "markdown",
      "metadata": {
        "id": "wNXPkjVcQ2e1"
      },
      "source": [
        "Regression in statistics is the process of predicting a Label(or Dependent Variable) based on the features(Independent Variables) at hand. Regression is used for time series modelling and finding the causal effect relationship between the variables and forecasting. For example, the relationship between the stock prices of the company and various factors like customer reputation and company annual performance etc. can be studied using regression.\n",
        "\n",
        "Linear Regression is one of the most fundamental and widely known Machine Learning Algorithms which people start with. Building blocks of a Linear Regression Model are:\n",
        "\n",
        "Discreet/continuous independent variables\n",
        "\n",
        "A best-fit regression line\n",
        "\n",
        "Continuous dependent variable. i.e., A Linear Regression model predicts the dependent variable using a regression line based on the independent variables. The equation of the Linear Regression is:"
      ]
    },
    {
      "cell_type": "markdown",
      "metadata": {
        "id": "kRYCwRpjSyJH"
      },
      "source": [
        "df.isna().sum()\n",
        "Out[49]:\n",
        "Id                  0\n",
        "MSSubClass          0\n",
        "LotFrontage         0\n",
        "LotArea             0\n",
        "OverallQual         0\n",
        "OverallCond         0\n",
        "YearBuilt           0\n",
        "YearRemodAdd        0\n",
        "MasVnrArea          0\n",
        "BsmtFinSF1          0\n",
        "BsmtFinSF2          0\n",
        "BsmtUnfSF           0\n",
        "TotalBsmtSF         0\n",
        "1stFlrSF            0\n",
        "2ndFlrSF            0\n",
        "LowQualFinSF        0\n",
        "GrLivArea           0\n",
        "BsmtFullBath        0\n",
        "BsmtHalfBath        0\n",
        "FullBath            0\n",
        "HalfBath            0\n",
        "BedroomAbvGr        0\n",
        "KitchenAbvGr        0\n",
        "TotRmsAbvGrd        0\n",
        "Fireplaces          0\n",
        "GarageYrBlt         0\n",
        "GarageCars          0\n",
        "GarageArea          0\n",
        "WoodDeckSF          0\n",
        "OpenPorchSF         0\n",
        "EnclosedPorch       0\n",
        "3SsnPorch           0\n",
        "ScreenPorch         0\n",
        "PoolArea            0\n",
        "MiscVal             0\n",
        "MoSold              0\n",
        "YrSold              0\n",
        "SalePrice        1459\n",
        "dtype: int64"
      ]
    }
  ]
}